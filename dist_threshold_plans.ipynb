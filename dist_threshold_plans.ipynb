{
 "cells": [
  {
   "cell_type": "markdown",
   "metadata": {},
   "source": [
    "# steps of dist threshold\n",
    "\n",
    "1. have the weighted network fully connected F.\n",
    "2. apply dist threshold T and delete edges whose weights (distance) is greater than threshold.\n",
    "3. convert the resulting network to unweighted G.\n",
    "4. in the unweighted network, compute clustering coefficient.\n",
    "5. swap random edges of this network (while preserving degree distribution) and derive randomized network GR.\n",
    "6. compute CC for GR.\n",
    "7. compute the difference between GR and G's CC. \n",
    "8. repeat previous steps with a different T, and then observe when CC_GR and CC_G is maximally different.\n"
   ]
  },
  {
   "cell_type": "markdown",
   "metadata": {},
   "source": [
    "## Sankalp's code for randomization\n",
    "\n",
    "https://github.com/sankalpg/Library_PythonNew/blob/941c28801071602c3fc7cb3fed02d4b21cb29086/networkAnalysis/clusteringCoffGen.cpp"
   ]
  },
  {
   "cell_type": "markdown",
   "metadata": {},
   "source": [
    "# Swapping edges (no.5 above)\n",
    "\n",
    "it is done according to M.Newman,The structure and function of complex networks:\n",
    "\n",
    "edge swaps of the form {(v1,w1), (v2,w2)} → {(v1, v2), (w1,w2)} for the case of fixed degree sequence, where (v1,w1) denotes an edge from vertex v1 to vertex w1. \n",
    "\n",
    "In code, here are the steps:\n",
    "\n",
    "0. have a unweighted network G;\n",
    "1. find two nodes that are not connected, N1,N2;\n",
    "2. for N1: get its degree D;\n",
    "3. generate a random number R in [1,D]\n",
    "4. get the neighbor node of N1, N1R=N1[R] so that NR1 is not connected to N2;\n",
    "5. repeat 2-4 steps to get N2R, which is a neighbor of N2 and is not connected to N1 or N1R. \n",
    "6. add edge between N1,N2.\n",
    "7. add edge between N1R and N2R.\n",
    "8. Remove edges (N1,N1R), (N2,N2R)."
   ]
  },
  {
   "cell_type": "code",
   "execution_count": null,
   "metadata": {
    "collapsed": true
   },
   "outputs": [],
   "source": []
  },
  {
   "cell_type": "code",
   "execution_count": null,
   "metadata": {
    "collapsed": true
   },
   "outputs": [],
   "source": []
  },
  {
   "cell_type": "code",
   "execution_count": null,
   "metadata": {
    "collapsed": true
   },
   "outputs": [],
   "source": []
  },
  {
   "cell_type": "code",
   "execution_count": null,
   "metadata": {
    "collapsed": true
   },
   "outputs": [],
   "source": []
  },
  {
   "cell_type": "code",
   "execution_count": null,
   "metadata": {
    "collapsed": true
   },
   "outputs": [],
   "source": []
  }
 ],
 "metadata": {
  "kernelspec": {
   "display_name": "Python 2",
   "language": "python",
   "name": "python2"
  },
  "language_info": {
   "codemirror_mode": {
    "name": "ipython",
    "version": 2
   },
   "file_extension": ".py",
   "mimetype": "text/x-python",
   "name": "python",
   "nbconvert_exporter": "python",
   "pygments_lexer": "ipython2",
   "version": "2.7.12"
  }
 },
 "nbformat": 4,
 "nbformat_minor": 2
}
