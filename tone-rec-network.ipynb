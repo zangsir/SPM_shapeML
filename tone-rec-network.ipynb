{
 "cells": [
  {
   "cell_type": "markdown",
   "metadata": {
    "collapsed": true
   },
   "source": [
    "# build data set for tone rec eval using network partition\n",
    "\n",
    "first of all, <b> notice that when you go from voiced-noneut to any other data set, the accuracy will drop because of the introduction of neutral tone</b>.\n",
    "\n",
    "0. select a tone data set (voiced-uni,whole-uni,bigram)\n",
    "1. divide the tone data set into five subsets (including neutral)\n",
    "2. then sample from these five to build a subset data that contains all four tones\n",
    "3. build a weighted fully connected graph from this data set\n",
    "4. perform thresholding and community detection\n",
    "5. inspect the final resulting cluster and compute their accuracy in tone recognition."
   ]
  },
  {
   "cell_type": "markdown",
   "metadata": {
    "collapsed": true
   },
   "source": [
    "# starting from voiced unigram dataset noneut"
   ]
  },
  {
   "cell_type": "code",
   "execution_count": null,
   "metadata": {
    "collapsed": true
   },
   "outputs": [],
   "source": []
  },
  {
   "cell_type": "code",
   "execution_count": 86,
   "metadata": {
    "collapsed": true
   },
   "outputs": [],
   "source": [
    "import sys\n",
    "\n",
    "def read_csv(input_file,num_meta):\n",
    "    f=open(input_file,'r').read().split('\\n')\n",
    "    outfile=input_file.split('.csv')[0]+'_np.csv'\n",
    "    data,label,all_data=[],[],[]\n",
    "    for line in f:\n",
    "        if line!='':\n",
    "            dl=line.split(',')\n",
    "            #dl=[float(i) for i in dl]\n",
    "            d=line.split(',')[:num_meta]\n",
    "            #d=[float(i) for i in d]\n",
    "            l=line.split(',')[num_meta:]\n",
    "            data.append(d)\n",
    "            assert len(l)==1\n",
    "            label.append(l[0])\n",
    "            all_data.append(dl)\n",
    "            \n",
    "            \n",
    "    return data,label,all_data"
   ]
  },
  {
   "cell_type": "code",
   "execution_count": null,
   "metadata": {
    "collapsed": true
   },
   "outputs": [],
   "source": []
  },
  {
   "cell_type": "code",
   "execution_count": 88,
   "metadata": {
    "collapsed": false
   },
   "outputs": [],
   "source": [
    "path='tone-rec-network/'\n",
    "dataset='tone-rec-network/downsample_syl_noneut.csv'\n",
    "data,label,adata=read_csv(dataset,-1)"
   ]
  },
  {
   "cell_type": "code",
   "execution_count": null,
   "metadata": {
    "collapsed": true
   },
   "outputs": [],
   "source": []
  },
  {
   "cell_type": "code",
   "execution_count": null,
   "metadata": {
    "collapsed": true
   },
   "outputs": [],
   "source": []
  },
  {
   "cell_type": "code",
   "execution_count": null,
   "metadata": {
    "collapsed": true
   },
   "outputs": [],
   "source": []
  },
  {
   "cell_type": "code",
   "execution_count": 89,
   "metadata": {
    "collapsed": false
   },
   "outputs": [],
   "source": [
    "#divide data into tone subsets (with label)\n",
    "from collections import defaultdict\n",
    "tone_dict_wlabel=defaultdict(list)\n",
    "for tone in set(label):\n",
    "    if tone=='6':\n",
    "        continue\n",
    "    tone_dict_wlabel[tone]=[adata[i] for i in range(len(adata)) if label[i]==tone]"
   ]
  },
  {
   "cell_type": "code",
   "execution_count": null,
   "metadata": {
    "collapsed": true
   },
   "outputs": [],
   "source": []
  },
  {
   "cell_type": "code",
   "execution_count": null,
   "metadata": {
    "collapsed": true
   },
   "outputs": [],
   "source": []
  },
  {
   "cell_type": "code",
   "execution_count": 90,
   "metadata": {
    "collapsed": true
   },
   "outputs": [],
   "source": [
    "#data no label\n",
    "from collections import defaultdict\n",
    "tone_dict=defaultdict(list)\n",
    "for tone in set(label):\n",
    "    if tone=='6':\n",
    "        continue\n",
    "    tone_dict[tone]=[data[i] for i in range(len(data)) if label[i]==tone]"
   ]
  },
  {
   "cell_type": "code",
   "execution_count": null,
   "metadata": {
    "collapsed": true
   },
   "outputs": [],
   "source": []
  },
  {
   "cell_type": "code",
   "execution_count": null,
   "metadata": {
    "collapsed": true
   },
   "outputs": [],
   "source": []
  },
  {
   "cell_type": "code",
   "execution_count": null,
   "metadata": {
    "collapsed": true
   },
   "outputs": [],
   "source": []
  },
  {
   "cell_type": "code",
   "execution_count": 91,
   "metadata": {
    "collapsed": false
   },
   "outputs": [
    {
     "name": "stdout",
     "output_type": "stream",
     "text": [
      "1 19556\n",
      "3 8374\n",
      "2 19047\n",
      "4 23797\n"
     ]
    }
   ],
   "source": [
    "for k in tone_dict.keys():\n",
    "    print k,len(tone_dict[k])"
   ]
  },
  {
   "cell_type": "code",
   "execution_count": null,
   "metadata": {
    "collapsed": true
   },
   "outputs": [],
   "source": []
  },
  {
   "cell_type": "code",
   "execution_count": null,
   "metadata": {
    "collapsed": true
   },
   "outputs": [],
   "source": []
  },
  {
   "cell_type": "code",
   "execution_count": null,
   "metadata": {
    "collapsed": true
   },
   "outputs": [],
   "source": []
  },
  {
   "cell_type": "code",
   "execution_count": null,
   "metadata": {
    "collapsed": true
   },
   "outputs": [],
   "source": []
  },
  {
   "cell_type": "code",
   "execution_count": 92,
   "metadata": {
    "collapsed": false
   },
   "outputs": [],
   "source": [
    "#randomly select 2000 from each tone cat and form a test dataset\n",
    "#with label\n",
    "import random\n",
    "n=2000\n",
    "test_data_wlabel=[]\n",
    "for k in tone_dict_wlabel.keys():\n",
    "    this_data=random.sample(tone_dict_wlabel[k],n)\n",
    "    test_data_wlabel.extend(this_data)\n",
    "\n",
    "#no label    \n",
    "import random\n",
    "n=2000\n",
    "test_data=[]\n",
    "for k in tone_dict.keys():\n",
    "    this_data=random.sample(tone_dict[k],n)\n",
    "    test_data.extend(this_data)"
   ]
  },
  {
   "cell_type": "code",
   "execution_count": null,
   "metadata": {
    "collapsed": true
   },
   "outputs": [],
   "source": []
  },
  {
   "cell_type": "code",
   "execution_count": null,
   "metadata": {
    "collapsed": true
   },
   "outputs": [],
   "source": []
  },
  {
   "cell_type": "code",
   "execution_count": null,
   "metadata": {
    "collapsed": true
   },
   "outputs": [],
   "source": []
  },
  {
   "cell_type": "code",
   "execution_count": null,
   "metadata": {
    "collapsed": true
   },
   "outputs": [],
   "source": []
  },
  {
   "cell_type": "code",
   "execution_count": null,
   "metadata": {
    "collapsed": true
   },
   "outputs": [],
   "source": []
  },
  {
   "cell_type": "code",
   "execution_count": null,
   "metadata": {
    "collapsed": true
   },
   "outputs": [],
   "source": []
  },
  {
   "cell_type": "code",
   "execution_count": 93,
   "metadata": {
    "collapsed": false
   },
   "outputs": [
    {
     "name": "stdout",
     "output_type": "stream",
     "text": [
      "[['0.362', '0.371', '0.381', '0.39', '0.4', '0.409', '0.417', '0.424', '0.431', '0.437', '0.443', '0.449', '0.454', '0.458', '0.462', '0.464', '0.467', '0.469', '0.47', '0.472', '0.473', '0.474', '0.473', '0.471', '0.465', '0.457', '0.447', '0.434', '0.421', '0.407'], ['0.187', '0.188', '0.185', '0.119', '0.116', '0.113', '0.05', '0.047', '0.045', '0.044', '0.045', '0.047', '0.048', '0.049', '0.048', '0.045', '0.042', '0.038', '0.036', '0.037', '0.105', '0.109', '0.114', '0.123', '0.13', '0.134', '0.135', '0.132', '0.126', '0.118']]\n",
      "8000\n",
      "[['0.211', '0.203', '0.193', '0.18', '0.166', '0.155', '0.147', '0.142', '0.137', '0.134', '0.129', '0.123', '0.117', '0.115', '0.121', '0.13', '0.137', '0.139', '0.14', '0.142', '0.144', '0.148', '0.152', '0.156', '0.159', '0.164', '0.17', '0.178', '0.184', '0.187', '1'], ['0.332', '0.328', '0.326', '0.324', '0.323', '0.323', '0.322', '0.322', '0.322', '0.322', '0.323', '0.323', '0.324', '0.325', '0.326', '0.326', '0.327', '0.327', '0.327', '0.326', '0.325', '0.323', '0.32', '0.315', '0.308', '0.298', '0.283', '0.261', '0.232', '0.201', '1']]\n",
      "8000\n"
     ]
    }
   ],
   "source": [
    "print test_data[:2]\n",
    "print len(test_data)\n",
    "print test_data_wlabel[:2]\n",
    "print len(test_data_wlabel)\n"
   ]
  },
  {
   "cell_type": "code",
   "execution_count": null,
   "metadata": {
    "collapsed": true
   },
   "outputs": [],
   "source": []
  },
  {
   "cell_type": "code",
   "execution_count": null,
   "metadata": {
    "collapsed": true
   },
   "outputs": [],
   "source": []
  },
  {
   "cell_type": "code",
   "execution_count": null,
   "metadata": {
    "collapsed": true
   },
   "outputs": [],
   "source": []
  },
  {
   "cell_type": "code",
   "execution_count": null,
   "metadata": {
    "collapsed": true
   },
   "outputs": [],
   "source": []
  },
  {
   "cell_type": "markdown",
   "metadata": {},
   "source": [
    "# data set order\n",
    "\n",
    " in this data, there are 2000 of each tone in the order of 2000 x 1 + 2000 x 3 + 2000 x 2 + 2000 x 4."
   ]
  },
  {
   "cell_type": "code",
   "execution_count": 98,
   "metadata": {
    "collapsed": false
   },
   "outputs": [],
   "source": [
    "#output_path='tone_rec_test_data/'\n",
    "def serialize_data(test_data):\n",
    "    if len(test_data[0])==30:\n",
    "        output_file=dataset.replace('.csv','_subset.csv')\n",
    "    else:\n",
    "        output_file=dataset.replace('.csv','_subset_wlabel.csv')\n",
    "    f=open(output_file,'w').close()\n",
    "    f=open(output_file,'a')\n",
    "    for i in test_data:#no label only data, this is for conveniently compute distance matrix later in graph\n",
    "        f.write(','.join(i)+'\\n')\n",
    "    f.close()"
   ]
  },
  {
   "cell_type": "code",
   "execution_count": null,
   "metadata": {
    "collapsed": true
   },
   "outputs": [],
   "source": []
  },
  {
   "cell_type": "code",
   "execution_count": 99,
   "metadata": {
    "collapsed": true
   },
   "outputs": [],
   "source": [
    "#write to both data files\n",
    "serialize_data(test_data)\n",
    "serialize_data(test_data_wlabel)"
   ]
  },
  {
   "cell_type": "code",
   "execution_count": 101,
   "metadata": {
    "collapsed": false
   },
   "outputs": [
    {
     "data": {
      "text/plain": [
       "7998000"
      ]
     },
     "execution_count": 101,
     "metadata": {},
     "output_type": "execute_result"
    }
   ],
   "source": [
    "4000*3999/2\n",
    "#32 million computations for 8000 tones\n",
    "#7 million for 4000 tones\n",
    "#notice that for this data set the length of subsequences is only 30 point."
   ]
  },
  {
   "cell_type": "code",
   "execution_count": null,
   "metadata": {
    "collapsed": true
   },
   "outputs": [],
   "source": []
  },
  {
   "cell_type": "code",
   "execution_count": null,
   "metadata": {
    "collapsed": true
   },
   "outputs": [],
   "source": []
  },
  {
   "cell_type": "code",
   "execution_count": null,
   "metadata": {
    "collapsed": true
   },
   "outputs": [],
   "source": []
  },
  {
   "cell_type": "code",
   "execution_count": null,
   "metadata": {
    "collapsed": true
   },
   "outputs": [],
   "source": []
  },
  {
   "cell_type": "code",
   "execution_count": null,
   "metadata": {
    "collapsed": true
   },
   "outputs": [],
   "source": []
  },
  {
   "cell_type": "code",
   "execution_count": null,
   "metadata": {
    "collapsed": true
   },
   "outputs": [],
   "source": []
  },
  {
   "cell_type": "code",
   "execution_count": null,
   "metadata": {
    "collapsed": true
   },
   "outputs": [],
   "source": []
  },
  {
   "cell_type": "code",
   "execution_count": null,
   "metadata": {
    "collapsed": true
   },
   "outputs": [],
   "source": []
  },
  {
   "cell_type": "code",
   "execution_count": null,
   "metadata": {
    "collapsed": true
   },
   "outputs": [],
   "source": []
  },
  {
   "cell_type": "code",
   "execution_count": null,
   "metadata": {
    "collapsed": true
   },
   "outputs": [],
   "source": []
  },
  {
   "cell_type": "code",
   "execution_count": null,
   "metadata": {
    "collapsed": true
   },
   "outputs": [],
   "source": []
  },
  {
   "cell_type": "code",
   "execution_count": null,
   "metadata": {
    "collapsed": true
   },
   "outputs": [],
   "source": []
  },
  {
   "cell_type": "code",
   "execution_count": null,
   "metadata": {
    "collapsed": true
   },
   "outputs": [],
   "source": []
  },
  {
   "cell_type": "code",
   "execution_count": null,
   "metadata": {
    "collapsed": true
   },
   "outputs": [],
   "source": []
  },
  {
   "cell_type": "code",
   "execution_count": null,
   "metadata": {
    "collapsed": true
   },
   "outputs": [],
   "source": []
  },
  {
   "cell_type": "code",
   "execution_count": null,
   "metadata": {
    "collapsed": true
   },
   "outputs": [],
   "source": []
  },
  {
   "cell_type": "code",
   "execution_count": null,
   "metadata": {
    "collapsed": true
   },
   "outputs": [],
   "source": []
  },
  {
   "cell_type": "code",
   "execution_count": null,
   "metadata": {
    "collapsed": true
   },
   "outputs": [],
   "source": []
  },
  {
   "cell_type": "code",
   "execution_count": null,
   "metadata": {
    "collapsed": true
   },
   "outputs": [],
   "source": []
  },
  {
   "cell_type": "code",
   "execution_count": null,
   "metadata": {
    "collapsed": true
   },
   "outputs": [],
   "source": []
  },
  {
   "cell_type": "code",
   "execution_count": null,
   "metadata": {
    "collapsed": true
   },
   "outputs": [],
   "source": []
  },
  {
   "cell_type": "code",
   "execution_count": null,
   "metadata": {
    "collapsed": true
   },
   "outputs": [],
   "source": []
  },
  {
   "cell_type": "code",
   "execution_count": null,
   "metadata": {
    "collapsed": true
   },
   "outputs": [],
   "source": []
  },
  {
   "cell_type": "code",
   "execution_count": 33,
   "metadata": {
    "collapsed": false
   },
   "outputs": [
    {
     "data": {
      "text/plain": [
       "8000"
      ]
     },
     "execution_count": 33,
     "metadata": {},
     "output_type": "execute_result"
    }
   ],
   "source": []
  },
  {
   "cell_type": "code",
   "execution_count": 37,
   "metadata": {
    "collapsed": true
   },
   "outputs": [],
   "source": [
    "t=1\n",
    "for i in range(len(test_data)):\n",
    "    test_data[i].append(t)\n",
    "    if (i+1)%2000 == 0:\n",
    "        t+=1\n",
    "    "
   ]
  },
  {
   "cell_type": "code",
   "execution_count": 38,
   "metadata": {
    "collapsed": false
   },
   "outputs": [
    {
     "name": "stdout",
     "output_type": "stream",
     "text": [
      "[[0.271, 0.266, 0.262, 0.258, 0.206, 0.204, 0.202, 0.15, 0.148, 0.146, 0.143, 0.141, 0.138, 0.134, 0.127, 0.112, 0.103, 0.097, 0.09, 0.084, 0.079, 0.078, 0.08, 0.083, 0.086, 0.09, 0.094, 0.103, 0.113, 0.114, 1], [0.703, 0.704, 0.704, 0.705, 0.706, 0.707, 0.708, 0.709, 0.711, 0.712, 0.714, 0.717, 0.719, 0.722, 0.725, 0.728, 0.732, 0.737, 0.743, 0.75, 0.757, 0.769, 0.778, 0.784, 0.788, 0.79, 0.791, 0.792, 0.793, 0.794, 1], [0.06, 0.056, 0.043, 0.036, 0.032, 0.028, 0.024, -0.008, -0.02, -0.029, -0.036, -0.041, -0.043, -0.043, -0.041, -0.038, -0.032, -0.02, 0.003, 0.029, 0.047, 0.056, 0.056, 0.05, 0.038, 0.024, 0.009, -0.001, 0.034, 0.085, 1]]\n"
     ]
    }
   ],
   "source": [
    "print test_data[:3]"
   ]
  },
  {
   "cell_type": "code",
   "execution_count": null,
   "metadata": {
    "collapsed": true
   },
   "outputs": [],
   "source": []
  },
  {
   "cell_type": "code",
   "execution_count": null,
   "metadata": {
    "collapsed": true
   },
   "outputs": [],
   "source": []
  },
  {
   "cell_type": "code",
   "execution_count": null,
   "metadata": {
    "collapsed": true
   },
   "outputs": [],
   "source": []
  },
  {
   "cell_type": "code",
   "execution_count": null,
   "metadata": {
    "collapsed": true
   },
   "outputs": [],
   "source": []
  },
  {
   "cell_type": "code",
   "execution_count": null,
   "metadata": {
    "collapsed": true
   },
   "outputs": [],
   "source": []
  },
  {
   "cell_type": "code",
   "execution_count": null,
   "metadata": {
    "collapsed": true
   },
   "outputs": [],
   "source": []
  },
  {
   "cell_type": "code",
   "execution_count": null,
   "metadata": {
    "collapsed": true
   },
   "outputs": [],
   "source": []
  },
  {
   "cell_type": "code",
   "execution_count": null,
   "metadata": {
    "collapsed": true
   },
   "outputs": [],
   "source": []
  },
  {
   "cell_type": "code",
   "execution_count": null,
   "metadata": {
    "collapsed": true
   },
   "outputs": [],
   "source": []
  },
  {
   "cell_type": "code",
   "execution_count": null,
   "metadata": {
    "collapsed": true
   },
   "outputs": [],
   "source": []
  },
  {
   "cell_type": "code",
   "execution_count": null,
   "metadata": {
    "collapsed": true
   },
   "outputs": [],
   "source": []
  },
  {
   "cell_type": "code",
   "execution_count": null,
   "metadata": {
    "collapsed": true
   },
   "outputs": [],
   "source": []
  },
  {
   "cell_type": "code",
   "execution_count": null,
   "metadata": {
    "collapsed": true
   },
   "outputs": [],
   "source": []
  },
  {
   "cell_type": "code",
   "execution_count": null,
   "metadata": {
    "collapsed": true
   },
   "outputs": [],
   "source": []
  },
  {
   "cell_type": "code",
   "execution_count": null,
   "metadata": {
    "collapsed": true
   },
   "outputs": [],
   "source": []
  }
 ],
 "metadata": {
  "kernelspec": {
   "display_name": "Python 2",
   "language": "python",
   "name": "python2"
  },
  "language_info": {
   "codemirror_mode": {
    "name": "ipython",
    "version": 2
   },
   "file_extension": ".py",
   "mimetype": "text/x-python",
   "name": "python",
   "nbconvert_exporter": "python",
   "pygments_lexer": "ipython2",
   "version": "2.7.12"
  }
 },
 "nbformat": 4,
 "nbformat_minor": 0
}
